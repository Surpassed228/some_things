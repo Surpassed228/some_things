{
 "cells": [
  {
   "cell_type": "code",
   "execution_count": 28,
   "metadata": {},
   "outputs": [
    {
     "name": "stdout",
     "output_type": "stream",
     "text": [
      "The first 20 primal numbers are:\n",
      "[2, 3, 5, 7, 11, 13, 17, 19, 23, 29, 31, 37, 41, 43, 47, 53, 59, 61, 67, 71]\n"
     ]
    }
   ],
   "source": [
    "the_one = [2,3]\n",
    "i  = 4\n",
    "a = int(input(\"how many?::: \"))\n",
    "while len(the_one) < a:\n",
    "    checking  = [n for n in range(2,i)]\n",
    "    test = True\n",
    "    for zz in checking:\n",
    "        lenk = int(i/zz)\n",
    "        if (i/zz)-lenk == 0.0:\n",
    "            test = False\n",
    "            i+=1\n",
    "            break\n",
    "        else:\n",
    "            test = True\n",
    "    if test == True:\n",
    "        the_one.append(i)\n",
    "        i+=1\n",
    "print(f\"The first {a} primal numbers are:\\n{the_one}\")\n",
    "\n",
    "        \n",
    "\n"
   ]
  }
 ],
 "metadata": {
  "kernelspec": {
   "display_name": "Python 3",
   "language": "python",
   "name": "python3"
  },
  "language_info": {
   "codemirror_mode": {
    "name": "ipython",
    "version": 3
   },
   "file_extension": ".py",
   "mimetype": "text/x-python",
   "name": "python",
   "nbconvert_exporter": "python",
   "pygments_lexer": "ipython3",
   "version": "3.10.6"
  },
  "orig_nbformat": 4
 },
 "nbformat": 4,
 "nbformat_minor": 2
}
